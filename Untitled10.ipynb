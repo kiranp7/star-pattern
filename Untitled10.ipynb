{
  "nbformat": 4,
  "nbformat_minor": 0,
  "metadata": {
    "colab": {
      "provenance": [],
      "mount_file_id": "1gVRi2CvfaBR4Wr7RJpqwuxZeuWLkh07y",
      "authorship_tag": "ABX9TyMLS7hsfwtTu9x3OO+pt+VB",
      "include_colab_link": true
    },
    "kernelspec": {
      "name": "python3",
      "display_name": "Python 3"
    },
    "language_info": {
      "name": "python"
    }
  },
  "cells": [
    {
      "cell_type": "markdown",
      "metadata": {
        "id": "view-in-github",
        "colab_type": "text"
      },
      "source": [
        "<a href=\"https://colab.research.google.com/github/kiranp7/star-pattern/blob/main/Untitled10.ipynb\" target=\"_parent\"><img src=\"https://colab.research.google.com/assets/colab-badge.svg\" alt=\"Open In Colab\"/></a>"
      ]
    },
    {
      "cell_type": "code",
      "execution_count": null,
      "metadata": {
        "colab": {
          "base_uri": "https://localhost:8080/"
        },
        "id": "-bYAWSRTJuEn",
        "outputId": "0d97a9a9-cb76-415d-9c4d-ff57179ce49d"
      },
      "outputs": [
        {
          "output_type": "stream",
          "name": "stdout",
          "text": [
            "* * * * * * * \n",
            "*   *   *   * \n",
            "* *       * * \n",
            "*           * \n",
            "* *       * * \n",
            "*   *   *   * \n",
            "* * * * * * * \n"
          ]
        }
      ],
      "source": [
        "for col in range(7):\n",
        "  for row in range(7):\n",
        "    if col==0 or col==6 or row==0 or row==6 or col-row==3 or row+col==3 or row-col==3 or row+col==9:\n",
        "      print(\"*\",end=\" \")\n",
        "    else:\n",
        "      print(\" \",end=\" \")\n",
        "  print()"
      ]
    },
    {
      "cell_type": "code",
      "source": [
        "for row in range(5):\n",
        "  for col in range(9):\n",
        "    if row==4 or row+col==4 or col-row==4:\n",
        "      print(\"*\",end=\" \")\n",
        "    else:\n",
        "      print(\" \",end=\" \")\n",
        "  print()"
      ],
      "metadata": {
        "colab": {
          "base_uri": "https://localhost:8080/"
        },
        "id": "03wzo6k0Tk0L",
        "outputId": "e2ad3ca1-ed89-4589-afa4-bef6ea6b9d84"
      },
      "execution_count": null,
      "outputs": [
        {
          "output_type": "stream",
          "name": "stdout",
          "text": [
            "        *         \n",
            "      *   *       \n",
            "    *       *     \n",
            "  *           *   \n",
            "* * * * * * * * * \n"
          ]
        }
      ]
    },
    {
      "cell_type": "code",
      "source": [
        "for row in range(4):\n",
        "  for col in range(7):\n",
        "    if row==3 or row+col==3 or col-row==3:\n",
        "      print(\"*\",end=\" \")\n",
        "    else:\n",
        "      print(\" \",end=\" \")\n",
        "  print()"
      ],
      "metadata": {
        "colab": {
          "base_uri": "https://localhost:8080/"
        },
        "id": "L81K9ZLcV3Bg",
        "outputId": "1d662d02-4970-4726-e27f-32ea98621d5f"
      },
      "execution_count": null,
      "outputs": [
        {
          "output_type": "stream",
          "name": "stdout",
          "text": [
            "      *       \n",
            "    *   *     \n",
            "  *       *   \n",
            "* * * * * * * \n"
          ]
        }
      ]
    },
    {
      "cell_type": "code",
      "source": [
        "for row in range(5):\n",
        "  for col in range(5):\n",
        "    if row+col==2 or col-row==2 or row-col==2 or row+col==6:\n",
        "      print(\"*\",end=\" \")\n",
        "    else:\n",
        "      print(\" \",end=\" \")\n",
        "  print()"
      ],
      "metadata": {
        "colab": {
          "base_uri": "https://localhost:8080/"
        },
        "id": "aV0mPoj7Xz-x",
        "outputId": "8e13a2ee-baae-4916-d459-5b8c80c8c0ca"
      },
      "execution_count": null,
      "outputs": [
        {
          "output_type": "stream",
          "name": "stdout",
          "text": [
            "    *     \n",
            "  *   *   \n",
            "*       * \n",
            "  *   *   \n",
            "    *     \n"
          ]
        }
      ]
    },
    {
      "cell_type": "code",
      "source": [
        "for row in range(4):\n",
        "  for col in range(4):\n",
        "    if col==0 or row==3 or row-col==0:\n",
        "      print(\"*\",end=\" \")\n",
        "    else:\n",
        "      print(\" \",end=\" \")\n",
        "  print()"
      ],
      "metadata": {
        "colab": {
          "base_uri": "https://localhost:8080/"
        },
        "id": "Xh5O1Gl8ZYmX",
        "outputId": "5ea8f4bb-e09f-4136-fee7-c9fd2dccc6a3"
      },
      "execution_count": null,
      "outputs": [
        {
          "output_type": "stream",
          "name": "stdout",
          "text": [
            "*       \n",
            "* *     \n",
            "*   *   \n",
            "* * * * \n"
          ]
        }
      ]
    },
    {
      "cell_type": "code",
      "source": [
        "for row in range(5):\n",
        "  for col in range(5):\n",
        "    if row-col==0 or row+col==4:\n",
        "      print(\"*\",end=\" \")\n",
        "    else:\n",
        "      print(\" \",end=\" \")\n",
        "  print()"
      ],
      "metadata": {
        "colab": {
          "base_uri": "https://localhost:8080/"
        },
        "id": "XAJMSiCJaZK4",
        "outputId": "895e23f7-c7e7-410c-c6eb-23f93c46f0e1"
      },
      "execution_count": null,
      "outputs": [
        {
          "output_type": "stream",
          "name": "stdout",
          "text": [
            "*       * \n",
            "  *   *   \n",
            "    *     \n",
            "  *   *   \n",
            "*       * \n"
          ]
        }
      ]
    },
    {
      "cell_type": "code",
      "source": [
        "n=int(input(\"num\"))\n",
        "for i in range(1,n):\n",
        "  for j in range(i):\n",
        "    print(\"*\",end=\" \")\n",
        "  for j in range(n-1):\n",
        "    print(\" \",end=\" \")\n",
        "  print()"
      ],
      "metadata": {
        "colab": {
          "base_uri": "https://localhost:8080/"
        },
        "id": "ztvK4ugGbcX0",
        "outputId": "73ba685c-1942-4fb0-ada0-3fcd4aa87b34"
      },
      "execution_count": null,
      "outputs": [
        {
          "output_type": "stream",
          "name": "stdout",
          "text": [
            "num9\n",
            "*                 \n",
            "* *                 \n",
            "* * *                 \n",
            "* * * *                 \n",
            "* * * * *                 \n",
            "* * * * * *                 \n",
            "* * * * * * *                 \n",
            "* * * * * * * *                 \n"
          ]
        }
      ]
    }
  ]
}